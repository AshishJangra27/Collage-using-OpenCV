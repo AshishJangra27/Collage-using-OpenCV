{
 "cells": [
  {
   "cell_type": "code",
   "execution_count": 5,
   "metadata": {},
   "outputs": [],
   "source": [
    "import os\n",
    "import cv2 as cv\n",
    "import numpy as np"
   ]
  },
  {
   "cell_type": "code",
   "execution_count": 176,
   "metadata": {},
   "outputs": [],
   "source": [
    "def make(r,c,pix,ref):\n",
    "    \n",
    "    r = r//pix\n",
    "    c = c//pix\n",
    "\n",
    "    imgs = os.listdir('img_align_celeba')\n",
    "\n",
    "    for col in range(c):\n",
    "        row = cv.imread('img_align_celeba/'+ imgs[np.random.randint(1,len(imgs)-1)])\n",
    "        row = cv.resize(row,(pix,pix))\n",
    "\n",
    "        for img in range(1,r):\n",
    "            img = cv.imread('img_align_celeba/'+imgs[np.random.randint(1,len(imgs)-1)])\n",
    "            img = cv.resize(img,(pix,pix))\n",
    "\n",
    "            row = np.concatenate((row,img), axis = 1)\n",
    "\n",
    "        if col == 0:\n",
    "            final = row\n",
    "\n",
    "        else:\n",
    "            final = np.concatenate((final,row), axis = 0)\n",
    "\n",
    "    cv.imwrite( str(r*pix) + \"*\" + str(c*pix) + \"(\" + ref + \")\" + '.jpg',final)\n",
    "    \n",
    "    print \"Image Created Sucessfully with\" , r*c , 'Images'"
   ]
  },
  {
   "cell_type": "code",
   "execution_count": 177,
   "metadata": {},
   "outputs": [
    {
     "name": "stdout",
     "output_type": "stream",
     "text": [
      "Image Created Sucessfully with 2304 Images\n",
      "Image Created Sucessfully with 5184 Images\n",
      "Image Created Sucessfully with 12393 Images\n",
      "Image Created Sucessfully with 20736 Images\n",
      "Image Created Sucessfully with 36864 Images\n"
     ]
    }
   ],
   "source": [
    "make (1280,720,20, '720p')\n",
    "make (1920,1080,20,'1080p')\n",
    "\n",
    "make (3072,1620,20,'3K')\n",
    "make (3840,2160,20,'4K')\n",
    "make (5120,2880,20,'5K')"
   ]
  },
  {
   "cell_type": "code",
   "execution_count": null,
   "metadata": {},
   "outputs": [],
   "source": []
  }
 ],
 "metadata": {
  "kernelspec": {
   "display_name": "Python 2",
   "language": "python",
   "name": "python2"
  },
  "language_info": {
   "codemirror_mode": {
    "name": "ipython",
    "version": 2
   },
   "file_extension": ".py",
   "mimetype": "text/x-python",
   "name": "python",
   "nbconvert_exporter": "python",
   "pygments_lexer": "ipython2",
   "version": "2.7.16"
  }
 },
 "nbformat": 4,
 "nbformat_minor": 2
}
